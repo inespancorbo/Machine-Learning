{
 "cells": [
  {
   "cell_type": "markdown",
   "metadata": {},
   "source": [
    "# Logistic Regression: Training stability"
   ]
  },
  {
   "cell_type": "code",
   "execution_count": 1,
   "metadata": {},
   "outputs": [],
   "source": [
    "import sys\n",
    "sys.path.insert(0, './code/')"
   ]
  },
  {
   "cell_type": "code",
   "execution_count": 2,
   "metadata": {
    "scrolled": true
   },
   "outputs": [],
   "source": [
    "from matplotlib import pyplot as plt\n",
    "import numpy as np\n",
    "import util\n",
    "import p01_lr"
   ]
  },
  {
   "cell_type": "code",
   "execution_count": 3,
   "metadata": {},
   "outputs": [
    {
     "data": {
      "text/plain": [
       "'/Users/inespancorbo/CS229/ps2'"
      ]
     },
     "execution_count": 3,
     "metadata": {},
     "output_type": "execute_result"
    }
   ],
   "source": [
    "import os\n",
    "os.getcwd()"
   ]
  },
  {
   "cell_type": "code",
   "execution_count": 4,
   "metadata": {},
   "outputs": [
    {
     "data": {
      "text/plain": [
       "Text(0.5, 1.0, 'Dataset A')"
      ]
     },
     "execution_count": 4,
     "metadata": {},
     "output_type": "execute_result"
    },
    {
     "data": {
      "image/png": "[encoded data removed]",
      "text/plain": [
       "<Figure size 432x288 with 1 Axes>"
      ]
     },
     "metadata": {
      "needs_background": "light"
     },
     "output_type": "display_data"
    }
   ],
   "source": [
    "xA, yA = util.load_csv('./data/ds1_a.csv', add_intercept=False)\n",
    "plt.scatter(xA[yA==-1,0], xA[yA==-1,1], c='lightblue', label='Label -1')\n",
    "plt.scatter(xA[yA==1,0], xA[yA==1,1], c='coral', label='Label 1')\n",
    "plt.legend()\n",
    "plt.title(\"Dataset A\")"
   ]
  },
  {
   "cell_type": "code",
   "execution_count": 5,
   "metadata": {},
   "outputs": [
    {
     "data": {
      "text/plain": [
       "Text(0.5, 1.0, 'Dataset B')"
      ]
     },
     "execution_count": 5,
     "metadata": {},
     "output_type": "execute_result"
    },
    {
     "data": {
      "image/png": "[encoded data removed]",
      "text/plain": [
       "<Figure size 432x288 with 1 Axes>"
      ]
     },
     "metadata": {
      "needs_background": "light"
     },
     "output_type": "display_data"
    }
   ],
   "source": [
    "xB, yB = util.load_csv('./data/ds1_b.csv', add_intercept=False)\n",
    "plt.scatter(xB[yB==-1,0], xB[yB==-1,1], c='lightblue', label='Label -1')\n",
    "plt.scatter(xB[yB==1,0], xB[yB==1,1], c='coral', label='Label 1')\n",
    "plt.legend()\n",
    "plt.title(\"Dataset B\")"
   ]
  },
  {
   "cell_type": "code",
   "execution_count": 6,
   "metadata": {},
   "outputs": [
    {
     "name": "stdout",
     "output_type": "stream",
     "text": [
      "==== Training model on data set A ====\n",
      "Finished 10000 iterations\n",
      "Finished 20000 iterations\n",
      "Finished 30000 iterations\n",
      "Finished 40000 iterations\n",
      "Finished 50000 iterations\n",
      "Finished 60000 iterations\n",
      "Finished 70000 iterations\n",
      "Finished 80000 iterations\n",
      "Finished 90000 iterations\n",
      "Finished 100000 iterations\n",
      "Finished 110000 iterations\n",
      "Finished 120000 iterations\n",
      "Finished 130000 iterations\n",
      "Finished 140000 iterations\n",
      "Finished 150000 iterations\n",
      "Finished 160000 iterations\n",
      "Finished 170000 iterations\n",
      "Finished 180000 iterations\n",
      "Finished 190000 iterations\n",
      "Finished 200000 iterations\n",
      "Finished 210000 iterations\n",
      "Finished 220000 iterations\n",
      "Finished 230000 iterations\n",
      "Finished 240000 iterations\n",
      "Finished 250000 iterations\n",
      "Finished 260000 iterations\n",
      "Finished 270000 iterations\n",
      "Converged in 278192 iterations\n",
      "\n",
      "==== Training model on data set B ====\n",
      "Finished 10000 iterations\n",
      "Finished 20000 iterations\n",
      "Finished 30000 iterations\n",
      "Finished 40000 iterations\n",
      "Finished 50000 iterations\n",
      "Finished 60000 iterations\n",
      "Finished 70000 iterations\n",
      "Finished 80000 iterations\n",
      "Finished 90000 iterations\n",
      "Finished 100000 iterations\n",
      "Finished 110000 iterations\n",
      "Finished 120000 iterations\n",
      "Finished 130000 iterations\n",
      "Finished 140000 iterations\n",
      "Finished 150000 iterations\n",
      "Finished 160000 iterations\n",
      "Finished 170000 iterations\n",
      "Finished 180000 iterations\n",
      "Finished 190000 iterations\n",
      "Finished 200000 iterations\n",
      "Finished 210000 iterations\n",
      "Finished 220000 iterations\n",
      "Finished 230000 iterations\n",
      "Finished 240000 iterations\n",
      "Finished 250000 iterations\n",
      "Finished 260000 iterations\n",
      "Finished 270000 iterations\n",
      "Finished 280000 iterations\n",
      "Finished 290000 iterations\n",
      "Finished 300000 iterations\n",
      "Finished 310000 iterations\n",
      "Finished 320000 iterations\n",
      "Finished 330000 iterations\n",
      "Finished 340000 iterations\n",
      "Finished 350000 iterations\n",
      "Finished 360000 iterations\n"
     ]
    },
    {
     "ename": "KeyboardInterrupt",
     "evalue": "",
     "output_type": "error",
     "traceback": [
      "\u001b[0;31m---------------------------------------------------------------------------\u001b[0m",
      "\u001b[0;31mKeyboardInterrupt\u001b[0m                         Traceback (most recent call last)",
      "\u001b[0;32m<ipython-input-6-da86b9d4e162>\u001b[0m in \u001b[0;36m<module>\u001b[0;34m\u001b[0m\n\u001b[0;32m----> 1\u001b[0;31m \u001b[0mp01_lr\u001b[0m\u001b[0;34m.\u001b[0m\u001b[0mmain\u001b[0m\u001b[0;34m(\u001b[0m\u001b[0;34m)\u001b[0m\u001b[0;34m\u001b[0m\u001b[0;34m\u001b[0m\u001b[0m\n\u001b[0m",
      "\u001b[0;32m~/CS229/ps2/code/p01_lr.py\u001b[0m in \u001b[0;36mmain\u001b[0;34m()\u001b[0m\n\u001b[1;32m     48\u001b[0m     \u001b[0mprint\u001b[0m\u001b[0;34m(\u001b[0m\u001b[0;34m'\\n==== Training model on data set B ===='\u001b[0m\u001b[0;34m)\u001b[0m\u001b[0;34m\u001b[0m\u001b[0;34m\u001b[0m\u001b[0m\n\u001b[1;32m     49\u001b[0m     \u001b[0mXb\u001b[0m\u001b[0;34m,\u001b[0m \u001b[0mYb\u001b[0m \u001b[0;34m=\u001b[0m \u001b[0mutil\u001b[0m\u001b[0;34m.\u001b[0m\u001b[0mload_csv\u001b[0m\u001b[0;34m(\u001b[0m\u001b[0;34m'./data/ds1_b.csv'\u001b[0m\u001b[0;34m,\u001b[0m \u001b[0madd_intercept\u001b[0m\u001b[0;34m=\u001b[0m\u001b[0;32mTrue\u001b[0m\u001b[0;34m)\u001b[0m\u001b[0;34m\u001b[0m\u001b[0;34m\u001b[0m\u001b[0m\n\u001b[0;32m---> 50\u001b[0;31m     \u001b[0mlogistic_regression\u001b[0m\u001b[0;34m(\u001b[0m\u001b[0mXb\u001b[0m\u001b[0;34m,\u001b[0m \u001b[0mYb\u001b[0m\u001b[0;34m)\u001b[0m\u001b[0;34m\u001b[0m\u001b[0;34m\u001b[0m\u001b[0m\n\u001b[0m\u001b[1;32m     51\u001b[0m \u001b[0;34m\u001b[0m\u001b[0m\n\u001b[1;32m     52\u001b[0m \u001b[0;34m\u001b[0m\u001b[0m\n",
      "\u001b[0;32m~/CS229/ps2/code/p01_lr.py\u001b[0m in \u001b[0;36mlogistic_regression\u001b[0;34m(X, Y)\u001b[0m\n\u001b[1;32m     34\u001b[0m             \u001b[0mprint\u001b[0m\u001b[0;34m(\u001b[0m\u001b[0;34m'Finished %d iterations'\u001b[0m \u001b[0;34m%\u001b[0m \u001b[0mi\u001b[0m\u001b[0;34m)\u001b[0m\u001b[0;34m\u001b[0m\u001b[0;34m\u001b[0m\u001b[0m\n\u001b[1;32m     35\u001b[0m             \u001b[0;31m# print(np.linalg.norm(prev_theta - theta))\u001b[0m\u001b[0;34m\u001b[0m\u001b[0;34m\u001b[0m\u001b[0;34m\u001b[0m\u001b[0m\n\u001b[0;32m---> 36\u001b[0;31m         \u001b[0;32mif\u001b[0m \u001b[0mnp\u001b[0m\u001b[0;34m.\u001b[0m\u001b[0mlinalg\u001b[0m\u001b[0;34m.\u001b[0m\u001b[0mnorm\u001b[0m\u001b[0;34m(\u001b[0m\u001b[0mprev_theta\u001b[0m \u001b[0;34m-\u001b[0m \u001b[0mtheta\u001b[0m\u001b[0;34m)\u001b[0m \u001b[0;34m<\u001b[0m \u001b[0;36m1e-15\u001b[0m\u001b[0;34m:\u001b[0m\u001b[0;34m\u001b[0m\u001b[0;34m\u001b[0m\u001b[0m\n\u001b[0m\u001b[1;32m     37\u001b[0m             \u001b[0mprint\u001b[0m\u001b[0;34m(\u001b[0m\u001b[0;34m'Converged in %d iterations'\u001b[0m \u001b[0;34m%\u001b[0m \u001b[0mi\u001b[0m\u001b[0;34m)\u001b[0m\u001b[0;34m\u001b[0m\u001b[0;34m\u001b[0m\u001b[0m\n\u001b[1;32m     38\u001b[0m             \u001b[0;32mbreak\u001b[0m\u001b[0;34m\u001b[0m\u001b[0;34m\u001b[0m\u001b[0m\n",
      "\u001b[0;31mKeyboardInterrupt\u001b[0m: "
     ]
    }
   ],
   "source": [
    "p01_lr.main()"
   ]
  },
  {
   "cell_type": "markdown",
   "metadata": {},
   "source": [
    "## (a)"
   ]
  },
  {
   "cell_type": "markdown",
   "metadata": {},
   "source": [
    "__What is the most notable difference in training the logistic regression model on datasets A and B?__\n",
    "\n",
    "It seems like we converge with dataset A (with a tolerance of $10^{-15}$, and a stopping condition of the norm of the parameter vector less than $10^{-15}$). It does not seem like logistic regression converges for dataset B.\n"
   ]
  },
  {
   "cell_type": "markdown",
   "metadata": {},
   "source": [
    "## (b)"
   ]
  },
  {
   "cell_type": "markdown",
   "metadata": {},
   "source": [
    "__Investigate why the training procedure behaves unexpectedly on dataset B, but not on A. Provide hard evidence (in the form of math, code, plots, etc.) to corroborate your hypothesis for the misbehavior. Remember, you should address why your explanation does not apply to A. Hint: The issue is not a numerical rounding or over/underflow error.__\n",
    "\n",
    "We can see the problem in the plot of the two datatsets. Dataset B is linearly separable. In general, linear separability is a good thing for a binary classification problem. However, it creates a pathology for unregularized logistic regression. You can see this by recalling that the decision boundary is the set $\\{x: \\theta^Tx=0\\}$ (assuming probability cut-off of $50\\%$) and this set is unchanged if we multiply $\\theta$ by some constant $c$. However, the scale does affect the likelihood function by causing the logistic function to be more steep. See illustration below."
   ]
  },
  {
   "cell_type": "code",
   "execution_count": null,
   "metadata": {},
   "outputs": [],
   "source": [
    "import pandas as pd\n",
    "df = pd.DataFrame(np.arange(-1,1,0.05), columns=['x'])\n",
    "constants = [1, 5, 10, 20, 30, 40, 50, 80, 100]\n",
    "for c in constants:\n",
    "    df[str(c)] = df['x'].apply(logistic, c=c)\n",
    "df = df.set_index('x')\n",
    "#df.head()\n",
    "df.plot()"
   ]
  },
  {
   "cell_type": "markdown",
   "metadata": {},
   "source": [
    "Imagine that you have a perfectly separated set of points, with the separation ocurring at zero in the plot above (*). \n",
    "\n",
    "Since for any $c$, the boundary set does not change, any of these logistic functions is valid. Which logistic function, dependent on $\\theta$, to choose? Let us examine this from a (more) formal mathematical perspective.\n",
    "\n",
    "Let $S(c,z)=\\frac{1}{1+e^{-cz}}$.\n",
    "\n",
    "Note that:\n",
    "\n",
    "$\\displaystyle \\lim_{c \\to \\infty}S(c,z)=0$ for $z <0$\n",
    "\n",
    "$\\displaystyle \\lim_{c \\to \\infty}S(c,z)=1$ for $z >0$\n",
    "\n",
    "Given the notation used above, the hyperplane $z=\\theta^Tx=0$ separates the space into the sets $\\{x: z <0\\}$ and $\\{x: z>0\\}$ and because of the perfect separation, all $x$ such that $z<0$ will be from class $0$, and all $x$ such that $z>0$ will be from class $1$ (given what we assumed in (*)).\n",
    "\n",
    "Let us assume our data is centered so we can ignore the intercept as it is zero. The function we are maximizing in logistic regression is\n",
    "\n",
    "$$L(c)= \\sum_i y_i \\log(S(c, z_i)) + (1 - y_i) \\log(1 - S(c, z_i))$$\n",
    "\n",
    "This summation has two types of terms.  Terms in which $y_i = 0$, look like $\\log(1 - S(c, z_i))$, and because of the perfect separation we know that for these terms $z_i < 0$.  By the first limit above, this means that\n",
    "\n",
    "$$ \\lim_{c \\rightarrow \\infty} S(c, z_i) = 0$$\n",
    "\n",
    "for every $z_i$ associated with a $y_i=0$.  Then, after applying the logarithm, we get:\n",
    "\n",
    "$$ \\lim_{c \\rightarrow \\infty} \\log(1 - S(c, z_i)) = 0$$\n",
    "\n",
    "You can easily use the same ideas to show that for the other type of terms\n",
    "\n",
    "$$ \\lim_{c \\rightarrow \\infty} \\log(S(c, z_i)) = 0$$\n",
    "\n",
    "So no matter what $c$ is, you can always drive the objective function upwards by increasing $c$ towards infinity.  So the objective function has no maximum, and attempting to find one iteratively will just increase $c$ forever.\n",
    "\n",
    "It's worth noting where we used the separation.  If we could not find a separator then we could not partition the terms into two groups, we would instead have four types\n",
    "\n",
    "- Terms with $y_i = 0$ and $z_i > 0$\n",
    "- Terms with $y_i = 0$ and $z_i < 0$\n",
    "- Terms with $y_i = 1$ and $z_i > 0$\n",
    "- Terms with $y_i = 1$ and $z_i < 0$\n",
    "\n",
    "In this case, when $c$ gets very large the terms with $y_i = 1$ and $z_i < 0$ will drive to negative infinity. When $c$ gets very negative, the $y_i = 0$ and $z_i < 0$ will do the same.  So somewhere in the middle, there must be a maximum.\n"
   ]
  },
  {
   "cell_type": "markdown",
   "metadata": {},
   "source": [
    "So summarizing, when the training data is linearly separable, two \"bad\" things happen:\n",
    "1. $||\\theta|| = \\infty$\n",
    "2. There are infinte number of MLEs\n",
    "\n",
    "One way to avoid this is to incorporate a prior on $\\theta$ in the form of a zero-mean Gaussian with covariance $\\frac{1}{2\\lambda}I$, \n",
    "\n",
    "$$\\theta \\sim N(0,\\frac{1}{2\\lambda}I)$$\n",
    "\n",
    "and seek the MAP (maximum a posteriori) estimate. This is essentially smoothing, since large $\\theta$ values will be penalized more. We seek the maximum a posteriori (MAP) estimator."
   ]
  },
  {
   "cell_type": "markdown",
   "metadata": {},
   "source": [
    "Quick refresher on MAP estimation:\n",
    "\n",
    "MLE is great, but it is not the only way to estimate parameters! The paradigm of MAP is that we should choose the value for our parameters that is the most likely given the data. At first blush this might seem the same as MLE; however, remember that MLE chooses the value of parameters that makes the data most likely. The former implies conditioning, the latter does not. \n",
    "\n",
    "One of the disadvantages of MLE is that it best explains data we have seen and makes no attempt to generalize to unseen data. In MAP, we incorporate prior belief about our parameters, and then we update our posterior belief of the parameters based on the data we have seen.\n",
    "\n",
    "Formally, for i.i.d random variables $X_1, X_2, ..., X_n:$\n",
    "\n",
    "$$\\theta_{MLE}= \\text{arg max}_{\\theta} \\displaystyle L(\\theta)$$\n",
    "where $L(\\theta)=p(\\underline{x};\\theta)$\n",
    "\n",
    "$$\\theta_{MAP}=\\text{arg max}_{\\theta}p(\\theta|\\underline{x})$$ \n",
    "\n",
    "$$=\\text{arg max}_{\\theta}\\frac{p(\\underline{x}|\\theta)p(\\theta)}{p(\\underline{x})} \\text{by Bayes Theorem}$$\n",
    "\n",
    "$$=\\text{arg max}_{\\theta}\\frac{\\displaystyle \\prod_{i=1}^{N}p(x^{(i)}|\\theta)p(\\theta)}{p(\\underline x)} \\text{Since the samples are i.i.d}$$\n",
    "\n",
    "$$=\\text{arg max}_{\\theta}\\displaystyle \\prod_{i=1}^{N}p(x^{(i)}|\\theta)p(\\theta) \\text{Since the denominator is a constant in the opt problem}$$\n",
    "\n",
    "It is more convenient to find the arg max of the log of the MAP function, which gives us the final form for MAP estimation of parameters.\n",
    "\n",
    "$$\\text{arg max}_{\\theta}\\text{log}p(\\theta)+\\displaystyle \\sum_{i=1}^{N}\\text{log}p(x^{(i)}|\\theta)$$\n",
    "\n",
    "Using Bayesian terminology, the MAP estimate is the mode of the “posterior” distribution for $\\theta$. If you look at this equation side by side with the MLE equation you will notice that MAP is the arg max of the exact same function plus a term for the log of the prior."
   ]
  },
  {
   "cell_type": "markdown",
   "metadata": {},
   "source": [
    "Now, back to the problem, assuming, \n",
    "\n",
    "$$\\theta \\sim N(0,\\frac{1}{2\\lambda}I)$$\n",
    "\n",
    "we have that,\n",
    "\n",
    "$$\\text{arg max}_{\\theta}\\text{log}p(\\theta)+\\displaystyle \\sum_{i=1}^{N}\\text{log}p(x^{(i)}|\\theta)$$\n",
    "\n",
    "$$=\\text{arg max}_{\\theta} -\\lambda ||\\theta||^2+\\sum_{i=1}^{N}\\text{log}p(x^{(i)}|\\theta)$$\n"
   ]
  },
  {
   "cell_type": "markdown",
   "metadata": {},
   "source": [
    "## (c)"
   ]
  },
  {
   "cell_type": "markdown",
   "metadata": {},
   "source": [
    "__For each of these possible modifications, state whether or not it would lead to the provided training algorithm converging on datasets such as B. Justify your answers.__\n",
    "\n",
    "1. Using a different constant learning rate.\n",
    "\n",
    "No. $L(\\theta)$ can still be arbitrarily large.\n",
    "\n",
    "2. Decreasing the learning rate over time (e.g. scaling the initial learning rate by $1/t^2$, where $t$ is the number of gradient descent iterations thus far).\n",
    "\n",
    "Maybe, if the learning rate is small enough, the change in the parameter might be small enough to stop training. This is a big maybe.\n",
    "\n",
    "3. Linear scaling of the input features.\n",
    "\n",
    "No. The dataset will still be linearly separable.\n",
    "\n",
    "4. Adding a regularization term $||\\theta||^2$ to the loss function.\n",
    "\n",
    "Yes. As seen above. \n",
    "\n",
    "5. Adding zero-mean Gaussian noise to the training data or labels.\n",
    "\n",
    "Yes. This could make the dataset not linearly separable, and easier to reach the global minimum.\n"
   ]
  },
  {
   "cell_type": "code",
   "execution_count": 7,
   "metadata": {
    "scrolled": true
   },
   "outputs": [
    {
     "name": "stdout",
     "output_type": "stream",
     "text": [
      "0.85\n",
      "0.91\n"
     ]
    }
   ],
   "source": [
    "from sklearn.linear_model import LogisticRegression\n",
    "from sklearn.model_selection import train_test_split\n",
    "from sklearn import preprocessing\n",
    "\n",
    "def fun(x, y):\n",
    "    x_train, x_test, y_train, y_test = train_test_split(x, y, test_size=0.33, random_state=2020)\n",
    "    #x_train = preprocessing.scale(x_train)\n",
    "    #x_test = preprocessing.scale(x_test)\n",
    "    model = LogisticRegression(C=2.0, solver='lbfgs')\n",
    "    model.fit(x_train, y_train)\n",
    "    y_pred = model.predict(x_test)\n",
    "    return model.score(x_test, y_test)\n",
    "\n",
    "\n",
    "print(round(fun(xA, yA),2))\n",
    "print(round(fun(xB, yB),2))"
   ]
  },
  {
   "cell_type": "markdown",
   "metadata": {},
   "source": [
    "# Model Calibration"
   ]
  },
  {
   "cell_type": "markdown",
   "metadata": {},
   "source": [
    ">\"We desire that the estimated class probabilities are reflective of the true underlying probability of the sample. That is, the predicted class probability (or probability-like value) needs to be well-calibrated. To be well-calibrated, the probabilities must effectively reflect the true likelihood of the event of interest.\"\n",
    "\n",
    "Page 249, __Applied Predictive Modeling,__ 2013"
   ]
  },
  {
   "cell_type": "markdown",
   "metadata": {},
   "source": [
    "__Why it happens?__\n",
    "\n",
    "Our models can output inaccurate probabilities for a variety of reasons:\n",
    "\n",
    "1. Flawed model assumptions (e.g. independence in a Naive Bayes Model)\n",
    "2. Hidden features not available at training time\n",
    "3. Deficiencies in the learning algorithm.\n",
    "\n",
    "In terms of learning algorithms, as noted in *Niculescu-Mizil et al*:\n",
    "\n",
    "1. Naive Bayes tends to push probabilities toward the extremes of 0 and 1.\n",
    "2. SVMs and boosted trees tend to push probabilities away from 0 and 1 (toward the centre)\n",
    "3. Neural networks and random forests tend to have well calibrated probabilities.\n",
    "4. Regularisation also tends to push probabilities toward the centre.\n",
    "\n",
    "**Do we care?**\n",
    "\n",
    "Whether or not we want well calibrated probabilities depends entirely on the problem we are trying to solve.\n",
    "\n",
    "If we only need to rank observations from most likely to least likely, then calibration is unnecessary.\n",
    "\n",
    "Examples where calibrated probabilities are extremely important:\n",
    "\n",
    "- Loan default prediction – Banks will generally be setting thresholds on the probabilities, auto-reject if probability of default is above 30%, etc.\n",
    "\n",
    "**Visualization**\n",
    "\n",
    "A reliability diagram is a relatively simple technique for visualising how well calibrated our classifier is.  As described in *Niculescu-Mizil et al*:\n",
    "\n",
    "> On real problems where the true conditional probabilities are not known, model calibration can be visualized with reliability diagrams (DeGroot & Fienberg, 1982). First, the prediction space is discretized into ten bins. Cases with predicted value between 0 and 0.1 fall in the first bin, between 0.1 and 0.2 in the second bin, etc. For each bin, the mean predicted value is plotted against the true fraction of positive cases. If the model is well calibrated the points will fall near the diagonal line.\n",
    "\n",
    "Essentially, reliability diagrams allow checking if the predicted probabilities of a binary classifier are well calibrated. For perfectly calibrated predictions, the curve in a reliability diagram should be as close as possible to the diagonal/identity. This would correspond to a situation in which among $N$ instances for which a classifier predicts probability $p$ for class $A$, the ratio of instances which actually belong to class $A$ is approx. $p$ (for any $p$ and sufficiently large $N$)."
   ]
  },
  {
   "cell_type": "code",
   "execution_count": 12,
   "metadata": {},
   "outputs": [],
   "source": [
    "def reliability_plot(probs, pred, scale=True):\n",
    "    '''Plots a reliability diagram and histogram of a set of predictions from a classifier\n",
    "    \n",
    "    Args:\n",
    "        probs: vector of probability predictions\n",
    "        pred: vector of true labels\n",
    "        scale: scale the pred to be between 0 and 1\n",
    "        ~better to scale otherwise you could get empty bins~\n",
    "    \n",
    "    Returns:\n",
    "        mean_prediction: vector with mean predicitons per bin\n",
    "        observed_fraction: vector with observed fraction of label 1 per bin\n",
    "    '''\n",
    "    \n",
    "    if scale:\n",
    "        probs = (probs - probs.min())/(probs.max()-probs.min())\n",
    "    \n",
    "    category = pd.cut(probs, \n",
    "                          bins=np.arange(0, 1.1, 0.1),\n",
    "                          include_lowest=True, \n",
    "                          labels=[i for i in range(0, 10)])\n",
    "    \n",
    "    observed_fraction=np.empty(10)\n",
    "    mean_prediction=np.empty(10)\n",
    "    \n",
    "    for i in range(10):\n",
    "        mean_prediction[i]=probs[category==i].mean()\n",
    "        observed_fraction[i]=len(pred[(pred==1) & (category==i)])/len(pred[(category==i)])\n",
    "        \n",
    "    return mean_prediction, observed_fraction"
   ]
  },
  {
   "cell_type": "code",
   "execution_count": 13,
   "metadata": {},
   "outputs": [],
   "source": [
    "def main(x_train, y_train, x_test=None, y_test=None, c=1.0):\n",
    "    '''Reproduces logistic regression and probability calibration\n",
    "    \n",
    "    Args:\n",
    "        x_train: matrix of training examples\n",
    "        y_train: matrix of binary training labels\n",
    "        x_test: matrix of testing examples\n",
    "        y_test: matrix of binary testing labels \n",
    "    \n",
    "    '''\n",
    "    model = LogisticRegression(C=c, solver='newton-cg')\n",
    "    model.fit(x_train, y_train)\n",
    "    probs = model.predict_proba(x_train)[:,1]\n",
    "    \n",
    "    mean_prediction, observed_fraction=reliability_plot(probs, y_train)\n",
    "    \n",
    "    plt.figure(0, figsize=(8, 8))\n",
    "    plt.subplot2grid((3, 1), (0, 0), rowspan=2)\n",
    "    plt.plot(mean_prediction, observed_fraction, label=\"Logistic Regression\")\n",
    "    plt.plot([0.0, 1.0], [0.0, 1.0], label=\"Perfect\")\n",
    "    plt.legend(loc='upper left')\n",
    "    plt.ylabel(\"Empirical probability\")\n",
    "    \n",
    "    plt.subplot2grid((3, 1), (2, 0))\n",
    "    plt.hist(probs, range=(0, 1), bins=10,\n",
    "             histtype=\"step\", lw=2)\n",
    "    plt.xlabel(\"Predicted Probability\")\n",
    "    plt.ylabel(\"Count\")"
   ]
  },
  {
   "cell_type": "code",
   "execution_count": 14,
   "metadata": {},
   "outputs": [
    {
     "data": {
      "image/png": "[encoded data removed]",
      "text/plain": [
       "<Figure size 576x576 with 2 Axes>"
      ]
     },
     "metadata": {
      "needs_background": "light"
     },
     "output_type": "display_data"
    }
   ],
   "source": [
    "import pandas as pd \n",
    "x_train, x_test, y_train, y_test = train_test_split(xA, yA, test_size=0.33, random_state=2020)\n",
    "y_train=np.where(y_train==-1.,0,1)\n",
    "main(x_train, y_train, x_test, y_test)"
   ]
  },
  {
   "cell_type": "markdown",
   "metadata": {},
   "source": [
    "Given the reliability plot it seems like our GLM assumptions do not hold. Since not all ranges $(a,b) \\subset [0,1]$ are calibrated."
   ]
  },
  {
   "cell_type": "markdown",
   "metadata": {},
   "source": [
    "It is also worth mentioning that if you take the mean of the score distribution, it should ideally be close to the prior."
   ]
  },
  {
   "cell_type": "code",
   "execution_count": 15,
   "metadata": {},
   "outputs": [
    {
     "name": "stdout",
     "output_type": "stream",
     "text": [
      "0.4626865671641791\n"
     ]
    }
   ],
   "source": [
    "# prior\n",
    "print(len(y_train[y_train==1])/len(y_train))\n",
    "\n",
    "# mean of score distribution\n",
    "# print(probs.mean())"
   ]
  },
  {
   "cell_type": "code",
   "execution_count": 16,
   "metadata": {},
   "outputs": [
    {
     "data": {
      "image/png": "[encoded data removed]",
      "text/plain": [
       "<Figure size 576x576 with 2 Axes>"
      ]
     },
     "metadata": {
      "needs_background": "light"
     },
     "output_type": "display_data"
    }
   ],
   "source": [
    "# Let's use the MNIST dataset, which is bigger\n",
    "data_train=np.genfromtxt('./code/mnist_train.csv', delimiter=',')\n",
    "# data_test=np.genfromtxt('./code/mnist_test.csv', delimiter=',')\n",
    "x_train=data_train[:,1:data_train.shape[1]]\n",
    "x_train = preprocessing.scale(x_train)\n",
    "y_train=data_train[:,0]\n",
    "y_train=np.where(y_train==3,1,0)\n",
    "main(x_train, y_train)"
   ]
  },
  {
   "cell_type": "code",
   "execution_count": 17,
   "metadata": {},
   "outputs": [
    {
     "name": "stdout",
     "output_type": "stream",
     "text": [
      "0.101\n"
     ]
    }
   ],
   "source": [
    "# prior\n",
    "print(len(y_train[y_train==1])/len(y_train))\n",
    "\n",
    "# mean of score distribution\n",
    "# print(probs.mean())"
   ]
  },
  {
   "cell_type": "markdown",
   "metadata": {},
   "source": [
    "## (a)\n",
    "\n",
    "__Show that the above property holds true for the described logistic regression model over the range $(a, b) = (0, 1)$.\n",
    "Hint: Use the fact that we include a bias term.__"
   ]
  },
  {
   "cell_type": "markdown",
   "metadata": {},
   "source": []
  },
  {
   "cell_type": "markdown",
   "metadata": {},
   "source": [
    "## (b)\n",
    "\n",
    "__If we have a binary classification model that is perfectly calibrated—that is, the property we just proved holds for any $(a, b) \\subset [0, 1]$ — does this necessarily imply that the model achieves perfect accuracy? Is the converse necessarily true? Justify your answers.__"
   ]
  },
  {
   "cell_type": "markdown",
   "metadata": {},
   "source": []
  },
  {
   "cell_type": "markdown",
   "metadata": {},
   "source": [
    "## (c)\n",
    "\n",
    "__Discuss what effect including L2 regularization in the logistic regression objective has on model calibration.__"
   ]
  },
  {
   "cell_type": "markdown",
   "metadata": {},
   "source": []
  },
  {
   "cell_type": "markdown",
   "metadata": {},
   "source": [
    "# Bayesian Interpretation of Regularization"
   ]
  },
  {
   "cell_type": "markdown",
   "metadata": {},
   "source": [
    "## (a)\n",
    "\n",
    "__Show that $\\theta_{MAP} = \\text{argmax}_{\\theta} p(y|x, \\theta)p(\\theta)$ if we assume that $p(\\theta)=p(\\theta|x)$. The assumption that $p(\\theta)=p(\\theta|x)$ will be valid for models such as linear regression where the input $x$ are not explicitly modeled by $\\theta$. (Note that this means $x$ and $\\theta$ are marginally independent, but not conditionally independent when $y$ is given.)__\n",
    "\n",
    "\n"
   ]
  },
  {
   "cell_type": "markdown",
   "metadata": {},
   "source": [
    "We have thhe function $p(\\theta|x,y),$ which by Bayes Theorem is equivalent to \n",
    "\n",
    "$$p(\\theta|x,y)=\\frac{p(x,y|\\theta)p(\\theta)}{p(x,y)}$$\n",
    "\n",
    "In terms of the optimization problem we can treat the denominator as a constant and so:\n",
    "\n",
    "$\\text{argmax}_{\\theta}p(x,y|\\theta)p(\\theta)$\n",
    "\n",
    "$=\\text{argmax}_{\\theta}p(y|x,\\theta)p(x|\\theta)p(\\theta)$\n",
    "\n",
    "$=\\text{argmax}_{\\theta}p(y|x,\\theta)p(x)p(\\theta)$\n",
    "\n",
    "$=\\text{argmax}_{\\theta}p(y|x,\\theta)p(\\theta)$"
   ]
  },
  {
   "cell_type": "markdown",
   "metadata": {},
   "source": [
    "## (b)\n",
    "\n",
    "__Recall that L2 regularization penalizes the L2 norm of the parameters while minimizing the loss (i.e., negative log likelihood in case of probabilistic models). Now we will show that MAP estimation with a zero-mean Gaussian prior over $\\theta$, specifically $\\theta$ ∼ $N(0,\\eta^2I)$, is equivalent to applying L2 regularization with MLE estimation. Specifically, show that:__\n",
    "\n",
    "$$\\theta_{MAP}=\\text{argmin}_{\\theta}-\\text{log}p(y|x,\\theta)+\\lambda||\\theta||^2$$\n",
    "\n",
    "**Also, what is the value of $\\lambda$?**"
   ]
  },
  {
   "cell_type": "markdown",
   "metadata": {},
   "source": [
    "$\\text{argmax}_{\\theta}p(y|x,\\theta)p(\\theta)$\n",
    "\n",
    "$=\\text{argmax}_{\\theta}\\text{log}p(y|x,\\theta) + \\text{log}p(\\theta)$\n",
    "\n",
    "Note that: \n",
    "\n",
    "$p(\\theta)=\\frac{1}{\\sqrt{2\\pi}|\\eta I|^n}e^{-\\theta^T\\frac{1}{2\\eta^2}\\theta}$\n",
    "\n",
    "$\\implies \\text{log}p(\\theta)=\\text{log}\\frac{1}{\\sqrt{2\\pi}|\\eta I|^n}-\\theta^T\\frac{1}{2\\eta^2}\\theta$\n",
    "\n",
    "$\\implies \\text{log}p(\\theta)=\\text{log}\\frac{1}{\\sqrt{2\\pi}|\\eta I|^n}-\\frac{1}{2\\eta^2}||\\theta||^2$\n",
    "\n",
    "And so:\n",
    "\n",
    "$\\text{argmax}_{\\theta}\\text{log}p(y|x,\\theta) + \\text{log}p(\\theta)$\n",
    "\n",
    "$=\\text{argmax}_{\\theta}\\text{log}p(y|x,\\theta) -\\frac{1}{2\\eta^2}||\\theta||^2$\n",
    "\n",
    "$=\\text{argmin}_{\\theta}-\\text{log}p(y|x,\\theta) +\\frac{1}{2\\eta^2}||\\theta||^2$\n",
    "\n",
    "And so $\\lambda = \\frac{1}{2\\eta^2}.$\n"
   ]
  },
  {
   "cell_type": "markdown",
   "metadata": {},
   "source": [
    "## (c)\n",
    "\n",
    "__Now consider a specific instance, a linear regression model given by $y = \\theta^Tx + \\epsilon$ where $\\epsilon \\sim N(0,\\sigma^2)$. Like before, assume a Gaussian prior on this model such that $\\theta ∼ N(0,\\eta^2I)$. For notation, let $X$ be the design matrix of all the training example inputs where each row vector is one example input, and $y$ be the column vector of all the example outputs. Come up with a closed form expression for $\\theta_{MAP}$.__"
   ]
  },
  {
   "cell_type": "markdown",
   "metadata": {},
   "source": [
    "If $\\epsilon \\sim N(0,\\sigma^2)$ then $y = \\theta^Tx + \\epsilon \\sim N(\\theta^Tx,\\sigma^2)$\n",
    "\n",
    "$p(y|x, \\theta)=\\displaystyle \\prod_{i=1}^{N}\\frac{1}{\\sqrt{2\\pi}\\sigma}e^{\\frac{(y_i-\\theta^Tx^{(i)})(y_i-\\theta^Tx^{(i)})}{2\\sigma^2}}$\n",
    "\n",
    "$\\text{log}p(y|x, \\theta)=-N\\text{log}(\\sqrt{2\\pi}\\sigma)-\\frac{1}{2\\sigma^2}\\displaystyle \\sum_{i=1}^{N}(y_i-\\theta^Tx^{(i)})(y_i-\\theta^Tx^{(i)})$\n",
    "\n",
    "And so,\n",
    "\n",
    "$\\theta_{MAP}=\\text{argmin}_{\\theta}-\\text{log}p(y|x,\\theta) +\\frac{1}{2\\eta^2}||\\theta||^2$\n",
    "\n",
    "$=\\text{argmin}_{\\theta}\\frac{1}{2\\sigma^2}\\displaystyle \\sum_{i=1}^{N}(y_i-\\theta^Tx^{(i)})(y_i-\\theta^Tx^{(i)})+\\frac{1}{2\\eta^2}||\\theta||^2$\n",
    "\n",
    "$=\\text{argmin}_{\\theta}\\frac{1}{\\sigma^2}\\displaystyle \\sum_{i=1}^{N}(y_i-\\theta^Tx^{(i)})(y_i-\\theta^Tx^{(i)})+\\frac{1}{\\eta^2}||\\theta||^2$\n",
    "\n",
    "$=\\text{argmin}_{\\theta}\\frac{1}{\\sigma^2}||y-X\\theta||^2+\\frac{1}{\\eta^2}||\\theta||^2$\n",
    "\n",
    "This is a quadratic function of $\\theta.$\n",
    "\n",
    "$=\\text{argmin}_{\\theta}\\frac{1}{\\sigma^2}(y^Ty-2y^TX\\theta+\\theta^TX^TX\\theta)+\\frac{1}{\\eta^2}\\theta^T\\theta$\n",
    "\n",
    "Let us find the gradient of the quadratic function of $\\theta.$\n",
    "\n",
    "$\\nabla_{\\theta}(\\frac{1}{\\sigma^2}(y^Ty-2y^TX\\theta+\\theta^TX^TX\\theta)+\\frac{1}{\\eta^2}\\theta^T\\theta)$\n",
    "\n",
    "$=\\frac{2}{\\sigma^2}(-X^Ty+X^TX\\theta)+\\frac{2}{\\eta^2}\\theta$\n",
    "\n",
    "Setting the gradient equal to $0.$\n",
    "\n",
    "$\\frac{1}{\\sigma^2}(-X^Ty+X^TX\\theta)+\\frac{1}{\\eta^2}\\theta=0$\n",
    "\n",
    "$\\implies \\theta=(X^TX+\\frac{\\sigma^2}{\\eta^2}I)^{-1}X^Ty$\n",
    "\n",
    "Since the hessian of the function of $\\theta$ is positive semi-definite, the above result is clearly a minimum."
   ]
  },
  {
   "cell_type": "markdown",
   "metadata": {},
   "source": [
    "## (d)\n",
    "\n",
    "**Next, consider the Laplace distribution, whose density is given by**\n",
    "\n",
    "$f_{L}(z|\\mu,b)= \\frac{1}{2b} e^{−\\frac{|z−\\mu|􏰄}{b}}.$\n",
    "\n",
    "__As before, consider a linear regression model given by $y = x^T \\theta + \\epsilon$ where $\\epsilon \\sim N(0, \\sigma^2)$. Assume a Laplace prior on this model where $\\theta \\sim L(0, bI)$.\n",
    "Show that $\\theta_{MAP}$ in this case is equivalent to the solution of linear regression with L1 regularization, whose loss is specified as:__ \n",
    "\n",
    "$J(\\theta) = ||X\\theta −y||^2 + \\gamma||\\theta||_1$\n",
    "\n",
    "**Also, what is the value of $\\gamma$?**"
   ]
  },
  {
   "cell_type": "markdown",
   "metadata": {},
   "source": [
    "Let us consider $p(\\theta).$\n",
    "\n",
    "$p(\\theta)=\\frac{1}{2b} e^{−\\frac{||\\theta|􏰄|_1}{b}}$\n",
    "\n",
    "$\\implies \\text{log}p(\\theta)=-\\text{log}2b −\\frac{||\\theta|􏰄|_1}{b}$\n",
    "\n",
    "And so we have that $\\gamma = \\frac{1}{b}$"
   ]
  },
  {
   "cell_type": "markdown",
   "metadata": {},
   "source": [
    "# Constructing Kernels"
   ]
  },
  {
   "cell_type": "markdown",
   "metadata": {},
   "source": [
    "Let $K_1, K_2$ be kernels over $R^n \\times R^n$, let $a \\in R_+$ be a positive real number, let $f : R^n 􏰀\\to R$ be a real-valued function, let $\\phi:R^n\\to R^d$ be a function mapping from $R^n$ to $R^d$, let $K_3$ be a kernel over $R^d \\times R^d$, and let $p(x)$ a polynomial over $x$ with positive coefficients.\n",
    "\n",
    "For each of the functions K below, state whether it is necessarily a kernel. If you think it is, prove it; if you think it isn’t, give a counter-example."
   ]
  },
  {
   "cell_type": "markdown",
   "metadata": {},
   "source": [
    "# Kernelizing the Perceptron"
   ]
  },
  {
   "cell_type": "markdown",
   "metadata": {},
   "source": [
    "1. $K(x, z) = K_1(x, z)+K_2(x, z)$\n",
    "\n",
    "Yes, because the sum of two symmetric positive semi-definite matrices is symmetric positive semi-definite: $y^T(K_1(x, z) + K_2(x, z))y=y^TK_1(x, z)y + y^TK_2(x, z)y \\geq 0~~\\forall y \\in R^n$\n",
    "\n",
    "\n",
    "2. $K(x, z) = K_1(x, z) − K_2(x, z)$\n",
    "\n",
    "No. Consider $K_1(x, z)=I$ and $K_2(x, z)=2I.$ Then $K(x, z)$ is symmetric negative semi-definite and cannot be a kernel.\n",
    "\n",
    "3. $K(x, z) = aK_1(x, z)$\n",
    "\n",
    "Yes, reasoning same as 1.\n",
    "\n",
    "4. $K(x, z) = −aK1(x, z)$\n",
    "\n",
    "No, reasoning same as 2.\n",
    "\n",
    "5. $K(x, z) = K_1(x, z)K_2(x, z)$\n",
    "6. $K(x,z) = f(x)f(z)$\n",
    "7. $K(x, z) = K_3(\\phi(x), \\phi(z))$\n",
    "8. $K(x, z) = p(K_1(x, z))$"
   ]
  },
  {
   "cell_type": "markdown",
   "metadata": {},
   "source": [
    "__Without kernelizing we would have__,\n",
    "\n",
    "\n",
    "$\\theta \\leftarrow 0$ // initializing weight vector\n",
    "\n",
    "$\\forall (x^{(i)}, y_i):$\n",
    "\n",
    "$\\hat{y_i} \\leftarrow \\theta^T\\phi(x^{(i)})$\n",
    "\n",
    "$\\theta \\leftarrow \\theta + \\alpha(y_i-\\hat{y_i})\\phi(x^{(i)})$"
   ]
  },
  {
   "cell_type": "markdown",
   "metadata": {},
   "source": [
    "__Kernelizing we would have,__\n",
    "\n",
    "$a \\leftarrow 0$ // initializing coefficient vector\n",
    "\n",
    "$\\forall (x^{(i)}, y_i):$\n",
    "\n",
    "$\\hat{y_i} \\leftarrow \\displaystyle \\sum_{m=1}^{i-1}a_m(\\phi(x^{(m)})^T\\phi(x^{(i)}))= \\displaystyle \\sum_{m=1}^{i-1}a_mK(x^{(m)},x^{(i)})$\n",
    "\n",
    "$a_i \\leftarrow a_i + \\alpha(y_i-\\hat{y_i})$\n",
    "\n",
    "where $K$ can be any valid kernel matrix (think gaussian, polynomial, etc.)"
   ]
  },
  {
   "cell_type": "code",
   "execution_count": null,
   "metadata": {},
   "outputs": [],
   "source": [
    "import sys\n",
    "sys.path.insert(0, './code/')\n",
    "\n",
    "import util\n",
    "import p05_percept\n",
    "\n",
    "# Let's visualize our training data\n",
    "x, y = util.load_csv('./data/ds5_train.csv')"
   ]
  },
  {
   "cell_type": "code",
   "execution_count": null,
   "metadata": {},
   "outputs": [],
   "source": [
    "plt.scatter(x[y==0,0], x[y==0,1], marker='x', c='green', label='Label 0')\n",
    "plt.scatter(x[y==1,0], x[y==1,1], marker='o', c='purple', label='Label 1')\n",
    "plt.legend()\n",
    "plt.title(\"Training Data\")"
   ]
  },
  {
   "cell_type": "markdown",
   "metadata": {},
   "source": [
    "Note that there are various models you could consider other than kernelized perceptron: kernelized logistic regression, SVM, ..., etc."
   ]
  },
  {
   "cell_type": "code",
   "execution_count": null,
   "metadata": {},
   "outputs": [],
   "source": [
    "p05_percept.main('./data/ds5_train.csv', './data/ds5_test.csv')"
   ]
  }
 ],
 "metadata": {
  "kernelspec": {
   "display_name": "Python 3",
   "language": "python",
   "name": "python3"
  },
  "language_info": {
   "codemirror_mode": {
    "name": "ipython",
    "version": 3
   },
   "file_extension": ".py",
   "mimetype": "text/x-python",
   "name": "python",
   "nbconvert_exporter": "python",
   "pygments_lexer": "ipython3",
   "version": "3.7.3"
  }
 },
 "nbformat": 4,
 "nbformat_minor": 2
}
